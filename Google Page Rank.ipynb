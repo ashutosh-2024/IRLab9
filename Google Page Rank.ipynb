{
 "cells": [
  {
   "cell_type": "code",
   "execution_count": 1,
   "id": "a2aa1cdb",
   "metadata": {},
   "outputs": [],
   "source": [
    "import numpy as np\n",
    "from scipy.sparse import dok_matrix"
   ]
  },
  {
   "cell_type": "code",
   "execution_count": 2,
   "id": "b4209e3c",
   "metadata": {},
   "outputs": [],
   "source": [
    "with open(\"/Users/anilaswani/Desktop/web-Stanford.txt\") as f:\n",
    "    contents = f.readlines()"
   ]
  },
  {
   "cell_type": "code",
   "execution_count": 3,
   "id": "0d1bc3f5",
   "metadata": {},
   "outputs": [],
   "source": [
    "A = np.zeros((10, 10))\n",
    "B = np.ones((10, 10))"
   ]
  },
  {
   "cell_type": "code",
   "execution_count": 4,
   "id": "387eab40",
   "metadata": {},
   "outputs": [],
   "source": [
    "for pair in contents:\n",
    "    pair.replace(\"\\n\",\"\")\n",
    "    coord = pair.split(\" \")\n",
    "    c1 = int(coord[0])\n",
    "    c2 = int(coord[1])\n",
    "    A[c1][c2]=1"
   ]
  },
  {
   "cell_type": "code",
   "execution_count": 5,
   "id": "c6aeb0f7",
   "metadata": {},
   "outputs": [],
   "source": [
    "A = A/A.sum(axis=0, keepdims=True)"
   ]
  },
  {
   "cell_type": "code",
   "execution_count": 6,
   "id": "c0030ac7",
   "metadata": {},
   "outputs": [
    {
     "name": "stdout",
     "output_type": "stream",
     "text": [
      "(10, 1)\n"
     ]
    }
   ],
   "source": [
    "v = np.array([[1/10],[1/10],[1/10],[1/10],[1/10],[1/10],[1/10],[1/10],[1/10],[1/10]])\n",
    "print((v.shape))"
   ]
  },
  {
   "cell_type": "code",
   "execution_count": 7,
   "id": "14d327be",
   "metadata": {},
   "outputs": [
    {
     "name": "stdout",
     "output_type": "stream",
     "text": [
      "[[0.15  0.15  0.15  0.15  0.15  0.15  0.15  0.15  0.15  0.15 ]\n",
      " [0.15  0.15  0.15  0.256 0.15  0.363 0.15  0.433 0.433 0.292]\n",
      " [0.575 0.15  0.15  0.256 0.15  0.363 0.32  0.15  0.15  0.292]\n",
      " [0.15  0.15  0.433 0.15  0.15  0.15  0.32  0.15  0.15  0.15 ]\n",
      " [0.15  0.15  0.15  0.256 0.15  0.363 0.15  0.15  0.15  0.292]\n",
      " [0.575 0.15  0.15  0.256 0.15  0.15  0.32  0.433 0.433 0.292]\n",
      " [0.15  0.575 0.433 0.256 0.575 0.15  0.15  0.15  0.15  0.15 ]\n",
      " [0.15  0.15  0.433 0.256 0.15  0.15  0.32  0.15  0.15  0.292]\n",
      " [0.15  0.575 0.15  0.256 0.15  0.363 0.15  0.433 0.15  0.292]\n",
      " [0.15  0.15  0.15  0.256 0.575 0.15  0.32  0.15  0.433 0.15 ]]\n"
     ]
    }
   ],
   "source": [
    "p=0.85\n",
    "M = p*A + (1-p)*B\n",
    "M = np.round_(M, decimals = 3)\n",
    "print(M)"
   ]
  },
  {
   "cell_type": "code",
   "execution_count": 8,
   "id": "af0d2a30",
   "metadata": {},
   "outputs": [],
   "source": [
    "temp = M"
   ]
  },
  {
   "cell_type": "code",
   "execution_count": 9,
   "id": "a976a0d1",
   "metadata": {},
   "outputs": [
    {
     "name": "stdout",
     "output_type": "stream",
     "text": [
      "[[0.1]\n",
      " [0.1]\n",
      " [0.1]\n",
      " [0.1]\n",
      " [0.1]\n",
      " [0.1]\n",
      " [0.1]\n",
      " [0.1]\n",
      " [0.1]\n",
      " [0.1]]\n"
     ]
    }
   ],
   "source": [
    "print(v)"
   ]
  },
  {
   "cell_type": "code",
   "execution_count": 10,
   "id": "8e716ac2",
   "metadata": {},
   "outputs": [],
   "source": [
    "i=0\n",
    "while(i < 10):\n",
    "    vnew = np.matmul(M,v)\n",
    "    vnew = np.round_(vnew, decimals = 2)\n",
    "    if(all(vnew==v)):\n",
    "        break\n",
    "    i=i+1\n",
    "    v = vnew"
   ]
  },
  {
   "cell_type": "code",
   "execution_count": 11,
   "id": "b23df9d6",
   "metadata": {},
   "outputs": [
    {
     "name": "stdout",
     "output_type": "stream",
     "text": [
      "[[327.91]\n",
      " [566.51]\n",
      " [538.09]\n",
      " [435.65]\n",
      " [435.84]\n",
      " [613.18]\n",
      " [593.64]\n",
      " [488.01]\n",
      " [597.06]\n",
      " [541.23]]\n"
     ]
    }
   ],
   "source": [
    "print(v)"
   ]
  },
  {
   "cell_type": "code",
   "execution_count": 12,
   "id": "c9093afc",
   "metadata": {},
   "outputs": [
    {
     "data": {
      "text/plain": [
       "array([[0, 3, 4, 7, 2, 9, 1, 6, 8, 5]])"
      ]
     },
     "execution_count": 12,
     "metadata": {},
     "output_type": "execute_result"
    }
   ],
   "source": [
    "np.argsort(v.transpose(), axis=-1, kind='quicksort', order=None)"
   ]
  }
 ],
 "metadata": {
  "kernelspec": {
   "display_name": "Python 3 (ipykernel)",
   "language": "python",
   "name": "python3"
  },
  "language_info": {
   "codemirror_mode": {
    "name": "ipython",
    "version": 3
   },
   "file_extension": ".py",
   "mimetype": "text/x-python",
   "name": "python",
   "nbconvert_exporter": "python",
   "pygments_lexer": "ipython3",
   "version": "3.9.12"
  }
 },
 "nbformat": 4,
 "nbformat_minor": 5
}
